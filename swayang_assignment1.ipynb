{
 "cells": [
  {
   "cell_type": "code",
   "execution_count": 1,
   "metadata": {},
   "outputs": [],
   "source": [
    "a= \"Liked - Top notch display, gorgeous display, heavyly and seriously powerful device thanks to 8+ gen 1. Tremendous battery life in heavy usage. Super cool device. Silky buttery experience with blazing fast performance. good sound quality. The form factor is really good. \""
   ]
  },
  {
   "cell_type": "code",
   "execution_count": 2,
   "metadata": {},
   "outputs": [
    {
     "data": {
      "text/plain": [
       "'Liked - Top notch display, gorgeous display, heavyly and seriously powerful device thanks to 8+ gen 1. Tremendous battery life in heavy usage. Super cool device. Silky buttery experience with blazing fast performance. good sound quality. The form factor is really good. '"
      ]
     },
     "execution_count": 2,
     "metadata": {},
     "output_type": "execute_result"
    }
   ],
   "source": [
    "a"
   ]
  },
  {
   "cell_type": "code",
   "execution_count": 3,
   "metadata": {},
   "outputs": [
    {
     "name": "stdout",
     "output_type": "stream",
     "text": [
      "display,\n",
      "gorgeous\n",
      "display,\n",
      "powerful\n",
      "Tremendous\n",
      "experience\n",
      "performance.\n",
      "quality.\n"
     ]
    }
   ],
   "source": [
    "x=a.split()\n",
    "for i in x:\n",
    "    if(len(i)%2==0) and len(i)>6:\n",
    "        print(i)\n",
    "\n"
   ]
  },
  {
   "cell_type": "code",
   "execution_count": 4,
   "metadata": {},
   "outputs": [
    {
     "name": "stdout",
     "output_type": "stream",
     "text": [
      "Vowels count = 189\n",
      "Consonants count = 81\n"
     ]
    }
   ],
   "source": [
    "count_vowels=0\n",
    "count_consonants=0\n",
    "for i in a:\n",
    "    if i in ['a','e','i','o','u','A','E','I','O','U']:\n",
    "        count_vowels+=1\n",
    "    else:\n",
    "        count_consonants =count_consonants+1\n",
    "\n",
    "print(\"Vowels count =\",count_consonants)\n",
    "print(\"Consonants count =\",count_vowels)   "
   ]
  },
  {
   "cell_type": "code",
   "execution_count": 5,
   "metadata": {},
   "outputs": [
    {
     "name": "stdout",
     "output_type": "stream",
     "text": [
      "33\n",
      "9\n"
     ]
    }
   ],
   "source": [
    "small=0\n",
    "capital=0\n",
    "x=a.split()\n",
    "for i in x:\n",
    "    if(i.islower()):\n",
    "        small+=1\n",
    "        \n",
    "    elif(i.upper()):\n",
    "        capital+=1\n",
    "\n",
    "print(small)\n",
    "print(capital)\n"
   ]
  },
  {
   "cell_type": "code",
   "execution_count": 6,
   "metadata": {},
   "outputs": [
    {
     "name": "stdout",
     "output_type": "stream",
     "text": [
      "device\n",
      "life\n",
      "experience\n",
      "The\n"
     ]
    }
   ],
   "source": [
    "x=a.split()\n",
    "for i in x:\n",
    "    if(i.endswith(\"e\")):\n",
    "        print(i)"
   ]
  },
  {
   "cell_type": "code",
   "execution_count": 7,
   "metadata": {},
   "outputs": [
    {
     "name": "stdout",
     "output_type": "stream",
     "text": [
      "starts with number = 8\n",
      "starts with capital = ['Liked', 'Top', '8+', '1.', 'Tremendous', 'Super', 'Silky', 'The']\n"
     ]
    }
   ],
   "source": [
    "count=0\n",
    "capital_letter=[]\n",
    "x=a.split()\n",
    "for i in x:\n",
    "    if(i[0].istitle() or i[0].isnumeric()):\n",
    "        count+=1\n",
    "        capital_letter.append(i)\n",
    "\n",
    "print(\"starts with number =\",count ) \n",
    "print(\"starts with capital =\",capital_letter) "
   ]
  },
  {
   "cell_type": "code",
   "execution_count": 8,
   "metadata": {},
   "outputs": [
    {
     "name": "stdout",
     "output_type": "stream",
     "text": [
      "Number of Even length words 24\n",
      "Number of Even length words 18\n",
      "Difference between even and even words= 6\n"
     ]
    }
   ],
   "source": [
    "even=0\n",
    "odd=0\n",
    "x=a.split()\n",
    "for i in x:\n",
    "    if (len(i)%2==0): \n",
    "        even+=1\n",
    "    else:\n",
    "        odd+=1\n",
    "\n",
    "print(\"Number of Even length words\", even)\n",
    "print(\"Number of Even length words\", odd)\n",
    "y=even-odd\n",
    "print(\"Difference between even and even words=\", y)\n"
   ]
  },
  {
   "cell_type": "code",
   "execution_count": 9,
   "metadata": {},
   "outputs": [
    {
     "name": "stdout",
     "output_type": "stream",
     "text": [
      "['dekiL', '-', 'poT', 'hcton', ',yalpsid', 'suoegrog', ',yalpsid', 'ylyvaeh', 'dna', 'ylsuoires', 'lufrewop', 'ecived', 'sknaht', 'ot', '+8', 'neg', '.1', 'suodnemerT', 'yrettab', 'efil', 'ni', 'yvaeh', '.egasu', 'repuS', 'looc', '.ecived', 'ykliS', 'yrettub', 'ecneirepxe', 'htiw', 'gnizalb', 'tsaf', '.ecnamrofrep', 'doog', 'dnuos', '.ytilauq', 'ehT', 'mrof', 'rotcaf', 'si', 'yllaer', '.doog']\n"
     ]
    }
   ],
   "source": [
    "reverse_word=[]\n",
    "x=a.split()\n",
    "for i in x:\n",
    "    reverse_word.append(i[::-1])\n",
    "print(reverse_word)"
   ]
  },
  {
   "cell_type": "code",
   "execution_count": 10,
   "metadata": {},
   "outputs": [
    {
     "name": "stdout",
     "output_type": "stream",
     "text": [
      "word stsrts with 'a' and length is odd = ['and']\n"
     ]
    }
   ],
   "source": [
    "words=[]\n",
    "x=a.split()\n",
    "for i in x:\n",
    "    if (i.startswith(\"a\")) and len(i)%2!=0:\n",
    "        words.append(i)\n",
    "        print(\"word stsrts with 'a' and length is odd =\", words)\n",
    "    "
   ]
  }
 ],
 "metadata": {
  "kernelspec": {
   "display_name": "Python 3",
   "language": "python",
   "name": "python3"
  },
  "language_info": {
   "codemirror_mode": {
    "name": "ipython",
    "version": 3
   },
   "file_extension": ".py",
   "mimetype": "text/x-python",
   "name": "python",
   "nbconvert_exporter": "python",
   "pygments_lexer": "ipython3",
   "version": "3.11.1 (tags/v3.11.1:a7a450f, Dec  6 2022, 19:58:39) [MSC v.1934 64 bit (AMD64)]"
  },
  "orig_nbformat": 4,
  "vscode": {
   "interpreter": {
    "hash": "c261aea317cc0286b3b3261fbba9abdec21eaa57589985bb7a274bf54d6cc0a7"
   }
  }
 },
 "nbformat": 4,
 "nbformat_minor": 2
}
